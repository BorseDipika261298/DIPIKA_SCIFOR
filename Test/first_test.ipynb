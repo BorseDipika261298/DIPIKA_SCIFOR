{
 "cells": [
  {
   "cell_type": "markdown",
   "id": "adc60bb0",
   "metadata": {},
   "source": [
    "## 1.Explain Encapsulation with example and write python code."
   ]
  },
  {
   "cell_type": "markdown",
   "id": "915124ae",
   "metadata": {},
   "source": [
    "Encapsulation is a process of combining member functions and data members with data intergrity and modularity."
   ]
  },
  {
   "cell_type": "code",
   "execution_count": 3,
   "id": "88d93c3a",
   "metadata": {},
   "outputs": [
    {
     "name": "stdout",
     "output_type": "stream",
     "text": [
      "The name of student is Rahul\n",
      "The student id of student is 12\n"
     ]
    }
   ],
   "source": [
    "class Student:\n",
    "    def __init__(self,name,stud_id):\n",
    "        self.name=name\n",
    "        self.__stud_id=stud_id   # private data member which ensures data intergration and modulation\n",
    "    def display(self):\n",
    "        print(f\"The name of student is {self.name}\")\n",
    "        print(f\"The student id of student is {self.__stud_id}\")\n",
    "\n",
    "student1=Student(\"Rahul\",12)\n",
    "#student1.__stud_id.................## This shows error no attribute __stud_id exited in class Student \n",
    "#because __stud_id is a private memeber in class Student.  \n",
    "student1.display()\n"
   ]
  },
  {
   "cell_type": "markdown",
   "id": "5396febf",
   "metadata": {},
   "source": [
    "## 2.Explain Polymorphism with example and write python code."
   ]
  },
  {
   "cell_type": "markdown",
   "id": "c5a80f0a",
   "metadata": {},
   "source": [
    "Polymorphism is a concept in objected oriented programming that allows objects of different classes to exist in different forms."
   ]
  },
  {
   "cell_type": "code",
   "execution_count": 11,
   "id": "f517e76a",
   "metadata": {},
   "outputs": [
    {
     "name": "stdout",
     "output_type": "stream",
     "text": [
      "The role of employee is to do the project works for the company\n",
      "The role of programmer is To develop software for company\n",
      "The role of manager is to manage the team \n"
     ]
    }
   ],
   "source": [
    "class Employee:\n",
    "    def work(self):\n",
    "        return \"The role of employee is to do the project works for the company\"\n",
    "class Programmer(Employee):\n",
    "    def work(self):\n",
    "        return \"The role of programmer is To develop software for company\"\n",
    "class Manager(Employee):\n",
    "    def work(self):\n",
    "        return \"The role of manager is to manage the team \"\n",
    "def func(obj):\n",
    "    return obj.work()\n",
    "\n",
    "employee=Employee()\n",
    "programmer=Programmer()\n",
    "manager=Manager()\n",
    "lst=[employee,programmer,manager]\n",
    "for i in lst:\n",
    "    result=func(i)\n",
    "    print(result)\n",
    "    "
   ]
  },
  {
   "cell_type": "markdown",
   "id": "9d2fc6d0",
   "metadata": {},
   "source": [
    "Here as you see all classes have have same method work() but when we call by their instance they give differnt output this is called polymorphism."
   ]
  },
  {
   "cell_type": "markdown",
   "id": "54f36a65",
   "metadata": {},
   "source": [
    "## 3. Explain Single Level Inheritance with python code.\n"
   ]
  },
  {
   "cell_type": "markdown",
   "id": "56e3e2d1",
   "metadata": {},
   "source": [
    "Heritance is a concept of oop in which subclass is inherit the properties of base class along with subclass have their own methods and attributes.\n",
    "\n",
    "single inheritance is a inheritance in which there is a one parent class and one child class and child inherit the properties of parent class. "
   ]
  },
  {
   "cell_type": "code",
   "execution_count": 14,
   "id": "e9f877e0",
   "metadata": {},
   "outputs": [
    {
     "name": "stdout",
     "output_type": "stream",
     "text": [
      "dog barks\n",
      "makes a sound\n"
     ]
    }
   ],
   "source": [
    "class Animal:\n",
    "    def sound(self):\n",
    "        return \"makes a sound\"\n",
    "class Dog(Animal):\n",
    "    def speak(self):\n",
    "        return \"dog barks\"\n",
    "\n",
    "dog=Dog()\n",
    "print(dog.speak())\n",
    "print(dog.sound())\n"
   ]
  },
  {
   "cell_type": "markdown",
   "id": "4cddca33",
   "metadata": {},
   "source": [
    "Here as you see dog is a subclass and animal is a base class and dog inherit the properties of animal class as we can also print the sound() from instance of dog() class."
   ]
  },
  {
   "cell_type": "markdown",
   "id": "2994a6e4",
   "metadata": {},
   "source": [
    "## 4. Explain Multiple inheritance with python code"
   ]
  },
  {
   "cell_type": "markdown",
   "id": "92b2e8ef",
   "metadata": {},
   "source": [
    "Multiple inheritance is a feature in object-oriented programming languages that allows a class to inherit attributes and methods from more than one parent class."
   ]
  },
  {
   "cell_type": "code",
   "execution_count": 21,
   "id": "a1f5407e",
   "metadata": {},
   "outputs": [
    {
     "name": "stdout",
     "output_type": "stream",
     "text": [
      "Inside GrandChild\n",
      "Inside Parent\n"
     ]
    }
   ],
   "source": [
    "class Parent(): \n",
    "    def display(self): \n",
    "        print(\"Inside Parent\") \n",
    "class Child(Parent): \n",
    "    def show(self):\n",
    "        print(\"Inside Child\") \n",
    "class GrandChild(Child): \n",
    "    def show(self): \n",
    "        print(\"Inside GrandChild\")\n",
    "g = GrandChild() \n",
    "g.show() \n",
    "g.display() \n",
    "\n"
   ]
  },
  {
   "cell_type": "markdown",
   "id": "cebdcdf7",
   "metadata": {},
   "source": [
    "## 5.Explain Muti-level inheritance with python code"
   ]
  },
  {
   "cell_type": "markdown",
   "id": "56d16e72",
   "metadata": {},
   "source": [
    "Multilevel Inheritance: When we have a child and grandchild relationship."
   ]
  },
  {
   "cell_type": "code",
   "execution_count": 19,
   "id": "eb15d717",
   "metadata": {},
   "outputs": [
    {
     "name": "stdout",
     "output_type": "stream",
     "text": [
      "Inside GrandChild\n",
      "Inside Parent\n"
     ]
    }
   ],
   "source": [
    "class Parent():  \n",
    "    def display(self): \n",
    "        print(\"Inside Parent\") \n",
    "    \n",
    "class Child(Parent):  \n",
    "    def show(self): \n",
    "        print(\"Inside Child\")  \n",
    "class GrandChild(Child):\n",
    "    def show(self): \n",
    "        print(\"Inside GrandChild\")          \n",
    "    \n",
    "# Driver code  \n",
    "g = GrandChild()    \n",
    "g.show() \n",
    "g.display() "
   ]
  },
  {
   "cell_type": "markdown",
   "id": "1801bc3a",
   "metadata": {},
   "source": [
    "## 6. What do you mean by conditional statements. Explain with python code"
   ]
  },
  {
   "cell_type": "markdown",
   "id": "5fe4ca3b",
   "metadata": {},
   "source": [
    "Conditional statements, also known as control flow statements, are used in programming to perform different actions based on different conditions. They allow the program to make decisions and execute certain parts of the code depending on whether a condition is true or false."
   ]
  },
  {
   "cell_type": "code",
   "execution_count": 22,
   "id": "b7490749",
   "metadata": {},
   "outputs": [
    {
     "name": "stdout",
     "output_type": "stream",
     "text": [
      "The number is positive and even.\n",
      "The number is negative and odd.\n",
      "The number is zero.\n"
     ]
    }
   ],
   "source": [
    "# Function to classify a number as positive, negative, or zero and even or odd\n",
    "def classify_number(num):\n",
    "    if num > 0:\n",
    "        if num % 2 == 0:\n",
    "            return \"The number is positive and even.\"\n",
    "        else:\n",
    "            return \"The number is positive and odd.\"\n",
    "    elif num < 0:\n",
    "        if num % 2 == 0:\n",
    "            return \"The number is negative and even.\"\n",
    "        else:\n",
    "            return \"The number is negative and odd.\"\n",
    "    else:\n",
    "        return \"The number is zero.\"\n",
    "\n",
    "print(classify_number(10))\n",
    "print(classify_number(-5))\n",
    "print(classify_number(0))\n"
   ]
  },
  {
   "cell_type": "markdown",
   "id": "b3cdc54a",
   "metadata": {},
   "source": [
    "## 7. What do you mean by decision making statements. Explain with python code"
   ]
  },
  {
   "cell_type": "markdown",
   "id": "0ae641bd",
   "metadata": {},
   "source": [
    "Decision making statements in Python (if, if-else, if-elif-else) allow you to control the flow of your program based on conditions. This enables your program to make decisions and execute different blocks of code accordingly."
   ]
  },
  {
   "cell_type": "code",
   "execution_count": 25,
   "id": "ef8c7237",
   "metadata": {},
   "outputs": [
    {
     "name": "stdout",
     "output_type": "stream",
     "text": [
      "The number is between 5 and 10\n"
     ]
    }
   ],
   "source": [
    "# Example of combining conditions\n",
    "number = 7\n",
    "\n",
    "if number > 5 and number < 10:\n",
    "    print(\"The number is between 5 and 10\")\n",
    "else:\n",
    "    print(\"The number is either less than 5 or greater than 10\")\n",
    "\n"
   ]
  },
  {
   "cell_type": "markdown",
   "id": "11a216b2",
   "metadata": {},
   "source": [
    "## 8. Write a program of factorial in python\n"
   ]
  },
  {
   "cell_type": "code",
   "execution_count": 28,
   "id": "7d5f2b53",
   "metadata": {},
   "outputs": [
    {
     "name": "stdout",
     "output_type": "stream",
     "text": [
      "Enter the no.5\n",
      "Factorial of 5 (recursive): 120\n"
     ]
    }
   ],
   "source": [
    "def factorial_recursive(n):\n",
    "    if n == 0 or n == 1:\n",
    "        return 1\n",
    "    else:\n",
    "        return n * factorial_recursive(n - 1)\n",
    "\n",
    "number = int(input(\"Enter the no.\"))\n",
    "print(f\"Factorial of {number} (recursive): {factorial_recursive(number)}\")\n",
    "\n"
   ]
  },
  {
   "cell_type": "markdown",
   "id": "edcac823",
   "metadata": {},
   "source": [
    "## 9.What do you understand by Functions? Explain with python code."
   ]
  },
  {
   "cell_type": "markdown",
   "id": "540291d8",
   "metadata": {},
   "source": [
    "Functions in Python are a way to encapsulate code into reusable blocks. They can take parameters, return values, and support default arguments, variable-length arguments, and keyword arguments. Functions help in organizing code, making it modular, readable, and easier to maintain."
   ]
  },
  {
   "cell_type": "code",
   "execution_count": 30,
   "id": "138f6699",
   "metadata": {},
   "outputs": [
    {
     "name": "stdout",
     "output_type": "stream",
     "text": [
      "The sum of 3 and 5 is: 8\n"
     ]
    }
   ],
   "source": [
    "def add_numbers(a, b):\n",
    "    result = a + b\n",
    "    return result\n",
    "\n",
    "sum_result = add_numbers(3, 5)\n",
    "print(f\"The sum of 3 and 5 is: {sum_result}\")\n",
    "\n"
   ]
  },
  {
   "cell_type": "markdown",
   "id": "a40d9229",
   "metadata": {},
   "source": [
    "## 10. How many pillars of Oops we have in Python?"
   ]
  },
  {
   "cell_type": "markdown",
   "id": "a7d1bbd2",
   "metadata": {},
   "source": [
    "Four pillars of oops are:\n",
    "1.Encapsulation\n",
    "2.Abstraction\n",
    "3.Inheritance\n",
    "4.Polymorphism"
   ]
  }
 ],
 "metadata": {
  "kernelspec": {
   "display_name": "Python 3 (ipykernel)",
   "language": "python",
   "name": "python3"
  },
  "language_info": {
   "codemirror_mode": {
    "name": "ipython",
    "version": 3
   },
   "file_extension": ".py",
   "mimetype": "text/x-python",
   "name": "python",
   "nbconvert_exporter": "python",
   "pygments_lexer": "ipython3",
   "version": "3.9.13"
  }
 },
 "nbformat": 4,
 "nbformat_minor": 5
}
